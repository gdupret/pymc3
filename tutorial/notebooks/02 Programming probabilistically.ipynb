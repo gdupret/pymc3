{
 "cells": [
  {
   "cell_type": "code",
   "execution_count": null,
   "metadata": {
    "pycharm": {
     "is_executing": true
    }
   },
   "outputs": [],
   "source": [
    "import matplotlib.pyplot as plt\n",
    "import scipy.stats as stats\n",
    "import numpy as np\n",
    "import pandas as pd\n",
    "import seaborn as sns\n",
    "import pymc3 as pm\n",
    "import arviz as az"
   ]
  },
  {
   "cell_type": "code",
   "execution_count": null,
   "metadata": {
    "pycharm": {
     "is_executing": true
    }
   },
   "outputs": [],
   "source": [
    "az.style.use('arviz-darkgrid')"
   ]
  },
  {
   "cell_type": "markdown",
   "metadata": {},
   "source": [
    "## PyMC3 primer"
   ]
  },
  {
   "cell_type": "code",
   "execution_count": null,
   "metadata": {
    "pycharm": {
     "is_executing": true
    }
   },
   "outputs": [],
   "source": [
    "np.random.seed(123)\n",
    "trials = 4\n",
    "theta_real = 0.35  # unknown value in a real experiment\n",
    "data = stats.bernoulli.rvs(p=theta_real, size=trials)\n",
    "data"
   ]
  },
  {
   "cell_type": "code",
   "execution_count": null,
   "metadata": {
    "pycharm": {
     "is_executing": true
    }
   },
   "outputs": [],
   "source": [
    "with pm.Model() as our_first_model:\n",
    "    # a priori\n",
    "    θ = pm.Beta('θ', alpha=1., beta=1.)\n",
    "    # likelihood\n",
    "    y = pm.Bernoulli('y', p=θ, observed=data)\n",
    "    trace = pm.sample(1000, random_seed=123)"
   ]
  },
  {
   "cell_type": "markdown",
   "metadata": {},
   "source": [
    "### Summarizing the posterior"
   ]
  },
  {
   "cell_type": "code",
   "execution_count": null,
   "metadata": {
    "pycharm": {
     "is_executing": true
    }
   },
   "outputs": [],
   "source": [
    "az.plot_trace(trace)\n",
    "plt.savefig('B11197_02_01.png')"
   ]
  },
  {
   "cell_type": "code",
   "execution_count": null,
   "metadata": {
    "pycharm": {
     "is_executing": true
    }
   },
   "outputs": [],
   "source": [
    "az.summary(trace)"
   ]
  },
  {
   "cell_type": "markdown",
   "metadata": {},
   "source": [
    "#### Posterior-based decisions"
   ]
  },
  {
   "cell_type": "code",
   "execution_count": null,
   "metadata": {
    "pycharm": {
     "is_executing": true
    }
   },
   "outputs": [],
   "source": [
    "az.plot_posterior(trace)\n",
    "plt.savefig('B11197_02_02.png', dpi=300)"
   ]
  },
  {
   "cell_type": "code",
   "execution_count": null,
   "metadata": {
    "pycharm": {
     "is_executing": true
    }
   },
   "outputs": [],
   "source": [
    "az.plot_posterior(trace, rope=[0.45, .55])\n",
    "plt.savefig('B11197_02_03.png', dpi=300)"
   ]
  },
  {
   "cell_type": "code",
   "execution_count": null,
   "metadata": {
    "scrolled": true,
    "pycharm": {
     "is_executing": true
    }
   },
   "outputs": [],
   "source": [
    "az.plot_posterior(trace, ref_val=0.5)\n",
    "plt.savefig('B11197_02_04.png', dpi=300)"
   ]
  },
  {
   "cell_type": "code",
   "execution_count": null,
   "metadata": {
    "pycharm": {
     "is_executing": true
    }
   },
   "outputs": [],
   "source": [
    "grid = np.linspace(0, 1, 200)\n",
    "θ_pos = trace['θ']\n",
    "lossf_a = [np.mean(abs(i - θ_pos)) for i in grid]\n",
    "lossf_b = [np.mean((i - θ_pos)**2) for i in grid]\n",
    "\n",
    "for lossf, c in zip([lossf_a, lossf_b], ['C0', 'C1']):\n",
    "    mini = np.argmin(lossf)\n",
    "    plt.plot(grid, lossf, c)\n",
    "    plt.plot(grid[mini], lossf[mini], 'o', color=c)\n",
    "    plt.annotate('{:.2f}'.format(grid[mini]),\n",
    "                 (grid[mini], lossf[mini] + 0.03), color=c)\n",
    "    plt.yticks([])\n",
    "    plt.xlabel(r'$\\hat \\theta$')\n",
    "plt.savefig('B11197_02_05.png', dpi=300)"
   ]
  },
  {
   "cell_type": "code",
   "execution_count": null,
   "metadata": {
    "pycharm": {
     "is_executing": true
    }
   },
   "outputs": [],
   "source": [
    "np.mean(θ_pos), np.median(θ_pos)"
   ]
  },
  {
   "cell_type": "code",
   "execution_count": null,
   "metadata": {
    "pycharm": {
     "is_executing": true
    }
   },
   "outputs": [],
   "source": [
    "lossf = []\n",
    "for i in grid:\n",
    "    if i < 0.5:\n",
    "        f = np.mean(np.pi * θ_pos / np.abs(i - θ_pos))\n",
    "    else:\n",
    "        f = np.mean(1 / (i - θ_pos))\n",
    "    lossf.append(f)\n",
    "\n",
    "mini = np.argmin(lossf)\n",
    "plt.plot(grid, lossf)\n",
    "plt.plot(grid[mini], lossf[mini], 'o')\n",
    "plt.annotate('{:.2f}'.format(grid[mini]),\n",
    "             (grid[mini] + 0.01, lossf[mini] + 0.1))\n",
    "plt.yticks([])\n",
    "plt.xlabel(r'$\\hat \\theta$')\n",
    "plt.savefig('B11197_02_06.png', dpi=300)"
   ]
  },
  {
   "cell_type": "markdown",
   "metadata": {},
   "source": [
    "## Gaussian inferences"
   ]
  },
  {
   "cell_type": "code",
   "execution_count": null,
   "metadata": {
    "pycharm": {
     "is_executing": true
    }
   },
   "outputs": [],
   "source": [
    "data = np.loadtxt('../data/chemical_shifts.csv')\n",
    "\n",
    "# remove outliers using the interquartile rule\n",
    "#quant = np.percentile(data, [25, 75])\n",
    "#iqr = quant[1] - quant[0]\n",
    "#upper_b = quant[1] + iqr * 1.5\n",
    "#lower_b = quant[0] - iqr * 1.5\n",
    "#data = data[(data > lower_b) & (data < upper_b)]\n",
    "#print(np.mean(data), np.std(data))\n",
    "\n",
    "az.plot_kde(data, rug=True)\n",
    "plt.yticks([0], alpha=0)\n",
    "plt.savefig('B11197_02_07.png', dpi=300)"
   ]
  },
  {
   "cell_type": "markdown",
   "metadata": {},
   "source": [
    " <img src=\"B11197_02_08.png\" width=\"500\">"
   ]
  },
  {
   "cell_type": "code",
   "execution_count": null,
   "metadata": {
    "pycharm": {
     "is_executing": true
    }
   },
   "outputs": [],
   "source": [
    "with pm.Model() as model_g:\n",
    "    μ = pm.Uniform('μ', lower=40, upper=70)\n",
    "    σ = pm.HalfNormal('σ', sd=10)\n",
    "    y = pm.Normal('y', mu=μ, sd=σ, observed=data)\n",
    "    trace_g = pm.sample(1000)"
   ]
  },
  {
   "cell_type": "code",
   "execution_count": null,
   "metadata": {
    "pycharm": {
     "is_executing": true
    }
   },
   "outputs": [],
   "source": [
    "az.plot_trace(trace_g)\n",
    "plt.savefig('B11197_02_09.png', dpi=300)"
   ]
  },
  {
   "cell_type": "code",
   "execution_count": null,
   "metadata": {
    "pycharm": {
     "is_executing": true
    }
   },
   "outputs": [],
   "source": [
    "az.plot_joint(trace_g, kind='kde', fill_last=False)\n",
    "plt.savefig('B11197_02_10.png', dpi=300)"
   ]
  },
  {
   "cell_type": "code",
   "execution_count": null,
   "metadata": {
    "pycharm": {
     "is_executing": true
    }
   },
   "outputs": [],
   "source": [
    "az.summary(trace_g)"
   ]
  },
  {
   "cell_type": "code",
   "execution_count": null,
   "metadata": {
    "pycharm": {
     "is_executing": true
    }
   },
   "outputs": [],
   "source": [
    "y_pred_g = pm.sample_posterior_predictive(trace_g, 100, model_g)"
   ]
  },
  {
   "cell_type": "code",
   "execution_count": null,
   "metadata": {
    "pycharm": {
     "is_executing": true
    }
   },
   "outputs": [],
   "source": [
    "data_ppc = az.from_pymc3(trace=trace_g, posterior_predictive=y_pred_g)\n",
    "ax = az.plot_ppc(data_ppc, figsize=(12, 6), mean=False)\n",
    "ax[0].legend(fontsize=15)\n",
    "plt.savefig('B11197_02_11.png', dpi=300)"
   ]
  },
  {
   "cell_type": "markdown",
   "metadata": {},
   "source": [
    "### Robust inferences"
   ]
  },
  {
   "cell_type": "code",
   "execution_count": null,
   "metadata": {
    "pycharm": {
     "is_executing": true
    }
   },
   "outputs": [],
   "source": [
    "plt.figure(figsize=(10, 6))\n",
    "x_values = np.linspace(-10, 10, 500)\n",
    "for df in [1, 2, 30]:\n",
    "    distri = stats.t(df)\n",
    "    x_pdf = distri.pdf(x_values)\n",
    "    plt.plot(x_values, x_pdf, label=fr'$\\nu = {df}$', lw=3)\n",
    "\n",
    "x_pdf = stats.norm.pdf(x_values)\n",
    "plt.plot(x_values, x_pdf, 'k--', label=r'$\\nu = \\infty$')\n",
    "plt.xlabel('x')\n",
    "plt.yticks([])\n",
    "plt.legend()\n",
    "plt.xlim(-5, 5)\n",
    "plt.savefig('B11197_02_12.png', dpi=300)"
   ]
  },
  {
   "cell_type": "markdown",
   "metadata": {},
   "source": [
    " <img src=\"B11197_02_13.png\" width=\"500\">"
   ]
  },
  {
   "cell_type": "code",
   "execution_count": null,
   "metadata": {
    "pycharm": {
     "is_executing": true
    }
   },
   "outputs": [],
   "source": [
    "with pm.Model() as model_t:\n",
    "    μ = pm.Uniform('μ', 40, 75)\n",
    "    σ = pm.HalfNormal('σ', sd=10)\n",
    "    ν = pm.Exponential('ν', 1/30)\n",
    "    y = pm.StudentT('y', mu=μ, sd=σ, nu=ν, observed=data)\n",
    "    trace_t = pm.sample(1000)"
   ]
  },
  {
   "cell_type": "code",
   "execution_count": null,
   "metadata": {
    "pycharm": {
     "is_executing": true
    }
   },
   "outputs": [],
   "source": [
    "az.plot_trace(trace_t)\n",
    "plt.savefig('B11197_02_14.png', dpi=300)"
   ]
  },
  {
   "cell_type": "code",
   "execution_count": null,
   "metadata": {
    "pycharm": {
     "is_executing": true
    }
   },
   "outputs": [],
   "source": [
    "az.summary(trace_t)"
   ]
  },
  {
   "cell_type": "code",
   "execution_count": null,
   "metadata": {
    "pycharm": {
     "is_executing": true
    }
   },
   "outputs": [],
   "source": [
    "y_ppc_t = pm.sample_posterior_predictive(\n",
    "    trace_t, 100, model_t, random_seed=123)\n",
    "y_pred_t = az.from_pymc3(trace=trace_t, posterior_predictive=y_ppc_t)\n",
    "az.plot_ppc(y_pred_t, figsize=(12, 6), mean=False)\n",
    "ax[0].legend(fontsize=15)\n",
    "plt.xlim(40, 70)\n",
    "plt.savefig('B11197_02_15.png', dpi=300)"
   ]
  },
  {
   "cell_type": "markdown",
   "metadata": {
    "collapsed": true
   },
   "source": [
    "# Tips example"
   ]
  },
  {
   "cell_type": "code",
   "execution_count": null,
   "metadata": {
    "pycharm": {
     "is_executing": true
    }
   },
   "outputs": [],
   "source": [
    "tips = pd.read_csv('../data/tips.csv')\n",
    "tips.tail()"
   ]
  },
  {
   "cell_type": "code",
   "execution_count": null,
   "metadata": {
    "pycharm": {
     "is_executing": true
    }
   },
   "outputs": [],
   "source": [
    "sns.violinplot(x='day', y='tip', data=tips)\n",
    "plt.savefig('B11197_02_16.png', dpi=300)"
   ]
  },
  {
   "cell_type": "code",
   "execution_count": null,
   "metadata": {
    "pycharm": {
     "is_executing": true
    }
   },
   "outputs": [],
   "source": [
    "tip = tips['tip'].values\n",
    "idx = pd.Categorical(tips['day'],\n",
    "                     categories=['Thur', 'Fri', 'Sat', 'Sun']).codes\n",
    "groups = len(np.unique(idx))"
   ]
  },
  {
   "cell_type": "code",
   "execution_count": null,
   "metadata": {
    "pycharm": {
     "is_executing": true
    }
   },
   "outputs": [],
   "source": [
    "with pm.Model() as comparing_groups:\n",
    "    μ = pm.Normal('μ', mu=0, sd=10, shape=groups)\n",
    "    σ = pm.HalfNormal('σ', sd=10, shape=groups)\n",
    "\n",
    "    y = pm.Normal('y', mu=μ[idx], sd=σ[idx], observed=tip)\n",
    "\n",
    "    trace_cg = pm.sample(5000)\n",
    "az.plot_trace(trace_cg)\n",
    "plt.savefig('B11197_02_17.png', dpi=300)"
   ]
  },
  {
   "cell_type": "code",
   "execution_count": null,
   "metadata": {
    "pycharm": {
     "is_executing": true
    }
   },
   "outputs": [],
   "source": [
    "dist = stats.norm()\n",
    "\n",
    "_, ax = plt.subplots(3, 2, figsize=(14, 8), constrained_layout=True)\n",
    "\n",
    "comparisons = [(i, j) for i in range(4) for j in range(i+1, 4)]\n",
    "pos = [(k, l) for k in range(3) for l in (0, 1)]\n",
    "\n",
    "for (i, j), (k, l) in zip(comparisons, pos):\n",
    "    means_diff = trace_cg['μ'][:, i] - trace_cg['μ'][:, j]\n",
    "    d_cohen = (means_diff / np.sqrt((trace_cg['σ'][:, i]**2 + trace_cg['σ'][:, j]**2) / 2)).mean()\n",
    "    ps = dist.cdf(d_cohen/(2**0.5))\n",
    "    az.plot_posterior(means_diff, ref_val=0, ax=ax[k, l])\n",
    "    ax[k, l].set_title(f'$\\mu_{i}-\\mu_{j}$')\n",
    "    ax[k, l].plot(\n",
    "        0, label=f\"Cohen's d = {d_cohen:.2f}\\nProb sup = {ps:.2f}\", alpha=0)\n",
    "    ax[k, l].legend()\n",
    "plt.savefig('B11197_02_18.png', dpi=300)"
   ]
  },
  {
   "cell_type": "markdown",
   "metadata": {},
   "source": [
    "# Hierarchical Models"
   ]
  },
  {
   "cell_type": "markdown",
   "metadata": {},
   "source": [
    " <img src=\"B11197_02_19.png\" width=\"500\">"
   ]
  },
  {
   "cell_type": "code",
   "execution_count": null,
   "metadata": {
    "pycharm": {
     "is_executing": true
    }
   },
   "outputs": [],
   "source": [
    "N_samples = [30, 30, 30]\n",
    "G_samples = [18, 18, 18]  # [3, 3, 3]  [18, 3, 3]\n",
    "\n",
    "group_idx = np.repeat(np.arange(len(N_samples)), N_samples)\n",
    "data = []\n",
    "for i in range(0, len(N_samples)):\n",
    "    data.extend(np.repeat([1, 0], [G_samples[i], N_samples[i]-G_samples[i]]))"
   ]
  },
  {
   "cell_type": "code",
   "execution_count": null,
   "metadata": {
    "pycharm": {
     "is_executing": true
    }
   },
   "outputs": [],
   "source": [
    "with pm.Model() as model_h:\n",
    "    μ = pm.Beta('μ', 1., 1.)\n",
    "    κ = pm.HalfNormal('κ', 10)\n",
    "\n",
    "    θ = pm.Beta('θ', alpha=μ*κ, beta=(1.0-μ)*κ, shape=len(N_samples))\n",
    "    y = pm.Bernoulli('y', p=θ[group_idx], observed=data)\n",
    "\n",
    "    trace_h = pm.sample(2000)"
   ]
  },
  {
   "cell_type": "code",
   "execution_count": null,
   "metadata": {
    "pycharm": {
     "is_executing": true
    }
   },
   "outputs": [],
   "source": [
    "az.plot_trace(trace_h)\n",
    "plt.savefig('B11197_02_20.png', dpi=300)"
   ]
  },
  {
   "cell_type": "code",
   "execution_count": null,
   "metadata": {
    "pycharm": {
     "is_executing": true
    }
   },
   "outputs": [],
   "source": [
    "az.summary(trace_h)"
   ]
  },
  {
   "cell_type": "code",
   "execution_count": null,
   "metadata": {
    "pycharm": {
     "is_executing": true
    }
   },
   "outputs": [],
   "source": [
    "x = np.linspace(0, 1, 100)\n",
    "for i in np.random.randint(0, len(trace_h), size=100):\n",
    "    u = trace_h['μ'][i]\n",
    "    k = trace_h['κ'][i]\n",
    "    pdf = stats.beta(u*k, (1.0-u)*k).pdf(x)\n",
    "    plt.plot(x, pdf,  'C1', alpha=0.2)\n",
    "\n",
    "u_mean = trace_h['μ'].mean()\n",
    "k_mean = trace_h['κ'].mean()\n",
    "dist = stats.beta(u_mean*k_mean, (1.0-u_mean)*k_mean)\n",
    "pdf = dist.pdf(x)\n",
    "mode = x[np.argmax(pdf)]\n",
    "mean = dist.moment(1)\n",
    "plt.plot(x, pdf, lw=3, label=f'mode = {mode:.2f}\\nmean = {mean:.2f}')\n",
    "plt.yticks([])\n",
    "\n",
    "plt.legend()\n",
    "plt.xlabel('$θ_{prior}$')\n",
    "plt.tight_layout()\n",
    "plt.savefig('B11197_02_21.png', dpi=300)"
   ]
  },
  {
   "cell_type": "code",
   "execution_count": null,
   "metadata": {
    "pycharm": {
     "is_executing": true
    }
   },
   "outputs": [],
   "source": [
    "cs_data = pd.read_csv('../data/chemical_shifts_theo_exp.csv')\n",
    "diff = cs_data.theo.values - cs_data.exp.values\n",
    "idx = pd.Categorical(cs_data['aa']).codes\n",
    "groups = len(np.unique(idx))"
   ]
  },
  {
   "cell_type": "code",
   "execution_count": null,
   "metadata": {
    "pycharm": {
     "is_executing": true
    }
   },
   "outputs": [],
   "source": [
    "with pm.Model() as cs_nh:\n",
    "    μ = pm.Normal('μ', mu=0, sd=10, shape=groups)\n",
    "    σ = pm.HalfNormal('σ', sd=10, shape=groups)\n",
    "\n",
    "    y = pm.Normal('y', mu=μ[idx], sd=σ[idx], observed=diff)\n",
    "\n",
    "    trace_cs_nh = pm.sample(1000)"
   ]
  },
  {
   "cell_type": "code",
   "execution_count": null,
   "metadata": {
    "pycharm": {
     "is_executing": true
    }
   },
   "outputs": [],
   "source": [
    "with pm.Model() as cs_h:\n",
    "    # hyper_priors\n",
    "    μ_μ = pm.Normal('μ_μ', mu=0, sd=10)\n",
    "    σ_μ = pm.HalfNormal('σ_μ', 10)\n",
    "\n",
    "    # priors\n",
    "    μ = pm.Normal('μ', mu=μ_μ, sd=σ_μ, shape=groups)\n",
    "    σ = pm.HalfNormal('σ', sd=10, shape=groups)\n",
    "\n",
    "    y = pm.Normal('y', mu=μ[idx], sd=σ[idx], observed=diff)\n",
    "\n",
    "    trace_cs_h = pm.sample(1000)"
   ]
  },
  {
   "cell_type": "code",
   "execution_count": null,
   "metadata": {
    "scrolled": true,
    "pycharm": {
     "is_executing": true
    }
   },
   "outputs": [],
   "source": [
    "_, axes = az.plot_forest([trace_cs_nh, trace_cs_h],\n",
    "                         model_names=['n_h', 'h'],\n",
    "                         var_names='μ', combined=False, colors='cycle')\n",
    "y_lims = axes[0].get_ylim()\n",
    "axes[0].vlines(trace_cs_h['μ_μ'].mean(), *y_lims)\n",
    "plt.savefig('B11197_02_22.png', dpi=300)"
   ]
  }
 ],
 "metadata": {
  "kernelspec": {
   "display_name": "Python 3",
   "language": "python",
   "name": "python3"
  },
  "language_info": {
   "codemirror_mode": {
    "name": "ipython",
    "version": 3
   },
   "file_extension": ".py",
   "mimetype": "text/x-python",
   "name": "python",
   "nbconvert_exporter": "python",
   "pygments_lexer": "ipython3",
   "version": "3.6.6"
  }
 },
 "nbformat": 4,
 "nbformat_minor": 1
}